{
 "cells": [
  {
   "cell_type": "markdown",
   "metadata": {},
   "source": [
    "### 1. Installing following installers required: \n",
    "- ImageMagick: https://imagemagick.org/script/download.php\n",
    "- ghostscript: https://www.ghostscript.com/download/gsdnld.html\n",
    "\n",
    "### 2. Note: before pip install wand, make sure install above installer at first\n",
    "### 3. Note: adding r before 'C:\\\\Program Files\\Tesseract-OCR\\tesseract.exe'\n",
    "- pytesseract.pytesseract.tesseract_cmd = r'C:\\\\Program Files\\Tesseract-OCR\\tesseract.exe'\n",
    "\n",
    "### 4. Clean temp file, where stores several giga bytes caches after running\n",
    "- C:\\Users\\u279014\\AppData\\Local\\Temp"
   ]
  },
  {
   "cell_type": "code",
   "execution_count": 1,
   "metadata": {
    "scrolled": false
   },
   "outputs": [],
   "source": [
    "import os\n",
    "import io\n",
    "\n",
    "import PyPDF2\n",
    "import re\n",
    "import pandas as pd\n",
    "\n",
    "from PIL import Image\n",
    "import pytesseract\n",
    "from wand.image import Image as Img"
   ]
  },
  {
   "cell_type": "code",
   "execution_count": 2,
   "metadata": {},
   "outputs": [],
   "source": [
    "pytesseract.pytesseract.tesseract_cmd = r'C:\\\\Program Files\\Tesseract-OCR\\tesseract.exe'"
   ]
  },
  {
   "cell_type": "code",
   "execution_count": 13,
   "metadata": {},
   "outputs": [],
   "source": [
    "class OCR():   \n",
    "    def __init__(self, path, fileNumbers = 200):\n",
    "        '''\n",
    "        parameter:\n",
    "            path: direct to the directory where batch pdf residing\n",
    "            fileNUmbers: maximum pdf to parse at one time\n",
    "        '''\n",
    "        self.img_dict = {}\n",
    "        self.extracted_text = []\n",
    "        self.path = path\n",
    "        self.fileNumbers = fileNumbers\n",
    "    \n",
    "    def pdf2jpg(self):\n",
    "        os.chdir(self.path)\n",
    "        files = [f for f in os.listdir('.') if f.endswith(('pdf'))]\n",
    "        for i,f in enumerate(files):\n",
    "            if i < self.fileNumbers: \n",
    "                print('processing: {:.2%}'.format((i+1)/self.fileNumbers))\n",
    "                with Img(filename = f, resolution= 800) as img:\n",
    "                    #img.compression_quality = 400\n",
    "                    pdf2img = img.convert('jpg')\n",
    "                    self.img_dict[f] = pdf2img\n",
    "        print('pdf_to_image:100% completed!')\n",
    "        return self.img_dict    \n",
    "    \n",
    "    def jpg2text(self,img_dict,rotate = 0):\n",
    "        imgBlobs = [] \n",
    "        for img in img_dict.values():\n",
    "            page = Img(image=img)\n",
    "            imgBlobs.append(page.make_blob('jpg'))\n",
    "                \n",
    "        for i,imgBlob in enumerate(imgBlobs):\n",
    "            im = Image.open(io.BytesIO(imgBlob))\n",
    "            text = pytesseract.image_to_string(im).replace('\\n','')\n",
    "            \n",
    "            # check rotation for drawings, skipping this step could cause mid-read pdf and un-recognizable text\n",
    "            try:\n",
    "                text.index('MATERIAL')\n",
    "            except: \n",
    "                text = pytesseract.image_to_string(im.rotate(angle = 180)).replace('\\n','')\n",
    "                \n",
    "            self.extracted_text.append(text)\n",
    "            print('processing: {:.2%}'.format((i+1)/(len(imgBlobs))))\n",
    "        print('image_to_text: 100% completed')\n",
    "        return list(img_dict.keys()), list(img_dict.values()), self.extracted_text \n",
    "\n",
    "    def text2item(self, drawing_nums, texts):\n",
    "        weight_rule_list = ['EST\\w+:\\d+.\\d+%','EST\\w+:\\d+.\\d+#','\\d+.\\d+k',\n",
    "                            'EST\\w+:\\d+.\\w+%','EST\\w+:\\d+.\\w+#','\\d+.\\w+k',\n",
    "                            'SCALE:\\d+.\\w+%','SCALE:\\d+.\\w+#','SCALE:\\d+.\\w+k',\n",
    "                            'SCALE:\\d+.\\d+%','SCALE:\\d+.\\d+#','SCALE:\\d+.\\d+k']\n",
    "        weight_rules = re.compile('|'.join(weight_rule_list))\n",
    "        material_rule_list = ['MATERIAL:SEEPARTLIST','MATERIAL:SEEPARTSLIST','MATERIAL:\\d+']\n",
    "        material_rules = re.compile('|'.join(material_rule_list))\n",
    "        pattern = re.compile('\\s+')\n",
    "        weights = []\n",
    "        materials = []        \n",
    "        for i,text in enumerate(texts):\n",
    "            text_whiten = re.sub(pattern, '',text)\n",
    "            weight = weight_rules.findall(text_whiten)\n",
    "            material = material_rules.findall(text_whiten)\n",
    "            weights.append(weight)\n",
    "            materials.append(material)           \n",
    "        return pd.DataFrame(list(zip(drawing_nums,weights, materials)), columns=['drawings_number','weight', 'material'])  "
   ]
  },
  {
   "cell_type": "code",
   "execution_count": 14,
   "metadata": {},
   "outputs": [],
   "source": [
    "path1 = r'\\\\pmi.corp.truck\\public\\FAE-SHARE\\Apps\\CADView\\344'\n",
    "path2 = r'C:\\Users\\u279014\\Documents\\H_Drive\\7.AA Models\\7.FabricationPriceAnalysis\\Data'\n",
    "path3 = r'S:\\OSK-Share\\DEPT\\PURCHASING\\000-GPSC Business Analysts\\13 - GPSC Steel Model\\JLG Engineering Drawings'"
   ]
  },
  {
   "cell_type": "code",
   "execution_count": 15,
   "metadata": {},
   "outputs": [
    {
     "data": {
      "text/plain": [
       "\"\\nimg_dict ={}\\nos.chdir(path2)\\nfiles = [f for f in os.listdir('.') if f.endswith('pdf')]\\nfor i,f in enumerate(files):\\n    if i < 3: \\n        print(f)\\n        print('processing: {:.2%}'.format((i+1)/3))\\n        with Img(filename = f, resolution= 600) as img:\\n            # img.compression_quality = 400\\n            pdf2img = img.convert('png')\\n            img_dict[f] = pdf2img\\n\""
      ]
     },
     "execution_count": 15,
     "metadata": {},
     "output_type": "execute_result"
    }
   ],
   "source": [
    "'''\n",
    "img_dict ={}\n",
    "os.chdir(path2)\n",
    "files = [f for f in os.listdir('.') if f.endswith('pdf')]\n",
    "for i,f in enumerate(files):\n",
    "    if i < 3: \n",
    "        print(f)\n",
    "        print('processing: {:.2%}'.format((i+1)/3))\n",
    "        with Img(filename = f, resolution= 600) as img:\n",
    "            # img.compression_quality = 400\n",
    "            pdf2img = img.convert('png')\n",
    "            img_dict[f] = pdf2img\n",
    "'''"
   ]
  },
  {
   "cell_type": "code",
   "execution_count": 16,
   "metadata": {},
   "outputs": [
    {
     "data": {
      "text/plain": [
       "{'1001116876.pdf': <wand.image.Image: 886bc9a 'JPG' (6800x8800)>,\n",
       " '1001158801_PARENT_EngineeringDrawing.pdf': <wand.image.Image: 4c22a42 'JPG' (6800x8800)>,\n",
       " '1001160873.pdf': <wand.image.Image: f10085c 'JPG' (6800x8800)>,\n",
       " '1001163773.pdf': <wand.image.Image: 7e4b966 'JPG' (6800x8800)>}"
      ]
     },
     "execution_count": 16,
     "metadata": {},
     "output_type": "execute_result"
    }
   ],
   "source": [
    "img_dict"
   ]
  },
  {
   "cell_type": "code",
   "execution_count": 17,
   "metadata": {},
   "outputs": [],
   "source": [
    "ocr = OCR(path = path2,fileNumbers=4)"
   ]
  },
  {
   "cell_type": "code",
   "execution_count": 18,
   "metadata": {},
   "outputs": [
    {
     "name": "stdout",
     "output_type": "stream",
     "text": [
      "processing: 25.00%\n",
      "processing: 50.00%\n",
      "processing: 75.00%\n",
      "processing: 100.00%\n",
      "pdf_to_image:100% completed!\n"
     ]
    }
   ],
   "source": [
    "img_dict = ocr.pdf2jpg()"
   ]
  },
  {
   "cell_type": "code",
   "execution_count": 19,
   "metadata": {},
   "outputs": [
    {
     "name": "stdout",
     "output_type": "stream",
     "text": [
      "processing: 25.00%\n",
      "processing: 50.00%\n",
      "processing: 75.00%\n",
      "processing: 100.00%\n",
      "image_to_text: 100% completed\n"
     ]
    }
   ],
   "source": [
    "drawings, pics, texts = ocr.jpg2text(img_dict = img_dict)"
   ]
  },
  {
   "cell_type": "code",
   "execution_count": 20,
   "metadata": {},
   "outputs": [],
   "source": [
    "extracted = ocr.text2item(drawing_nums=drawings, texts=texts)"
   ]
  },
  {
   "cell_type": "code",
   "execution_count": 21,
   "metadata": {},
   "outputs": [
    {
     "data": {
      "text/html": [
       "<div>\n",
       "<style scoped>\n",
       "    .dataframe tbody tr th:only-of-type {\n",
       "        vertical-align: middle;\n",
       "    }\n",
       "\n",
       "    .dataframe tbody tr th {\n",
       "        vertical-align: top;\n",
       "    }\n",
       "\n",
       "    .dataframe thead th {\n",
       "        text-align: right;\n",
       "    }\n",
       "</style>\n",
       "<table border=\"1\" class=\"dataframe\">\n",
       "  <thead>\n",
       "    <tr style=\"text-align: right;\">\n",
       "      <th></th>\n",
       "      <th>drawings_number</th>\n",
       "      <th>weight</th>\n",
       "      <th>material</th>\n",
       "    </tr>\n",
       "  </thead>\n",
       "  <tbody>\n",
       "    <tr>\n",
       "      <th>0</th>\n",
       "      <td>1001116876.pdf</td>\n",
       "      <td>[07265.5k]</td>\n",
       "      <td>[MATERIAL:SEEPARTSLIST]</td>\n",
       "    </tr>\n",
       "    <tr>\n",
       "      <th>1</th>\n",
       "      <td>1001158801_PARENT_EngineeringDrawing.pdf</td>\n",
       "      <td>[]</td>\n",
       "      <td>[MATERIAL:SEEPARTSLIST]</td>\n",
       "    </tr>\n",
       "    <tr>\n",
       "      <th>2</th>\n",
       "      <td>1001160873.pdf</td>\n",
       "      <td>[ESTWI:103.2%, 46.8k]</td>\n",
       "      <td>[MATERIAL:4]</td>\n",
       "    </tr>\n",
       "    <tr>\n",
       "      <th>3</th>\n",
       "      <td>1001163773.pdf</td>\n",
       "      <td>[10|198XR502XRI242k]</td>\n",
       "      <td>[MATERIAL:4150421]</td>\n",
       "    </tr>\n",
       "  </tbody>\n",
       "</table>\n",
       "</div>"
      ],
      "text/plain": [
       "                            drawings_number                 weight  \\\n",
       "0                            1001116876.pdf             [07265.5k]   \n",
       "1  1001158801_PARENT_EngineeringDrawing.pdf                     []   \n",
       "2                            1001160873.pdf  [ESTWI:103.2%, 46.8k]   \n",
       "3                            1001163773.pdf   [10|198XR502XRI242k]   \n",
       "\n",
       "                  material  \n",
       "0  [MATERIAL:SEEPARTSLIST]  \n",
       "1  [MATERIAL:SEEPARTSLIST]  \n",
       "2             [MATERIAL:4]  \n",
       "3       [MATERIAL:4150421]  "
      ]
     },
     "execution_count": 21,
     "metadata": {},
     "output_type": "execute_result"
    }
   ],
   "source": [
    "extracted"
   ]
  },
  {
   "cell_type": "code",
   "execution_count": null,
   "metadata": {},
   "outputs": [],
   "source": [
    "# extracted.to_csv(r'S:\\OSK-Share\\DEPT\\PURCHASING\\000-GPSC Business Analysts\\13 - GPSC Steel Model\\JLG Engineering Drawings\\extracted.csv')"
   ]
  },
  {
   "cell_type": "code",
   "execution_count": 22,
   "metadata": {},
   "outputs": [
    {
     "data": {
      "text/plain": [
       "3"
      ]
     },
     "execution_count": 22,
     "metadata": {},
     "output_type": "execute_result"
    }
   ],
   "source": [
    "drawings.index('1001163773.pdf')"
   ]
  },
  {
   "cell_type": "code",
   "execution_count": 23,
   "metadata": {},
   "outputs": [
    {
     "data": {
      "text/plain": [
       "'THIS PRINT IS THE PROPERTY OF JLG INDUSTRIES AND CONTAINS PROPRIETARY AND CONFIDENTIALOR DISCLOSED TO ANY THIRD PARTY WITHOUT JLG’S WRITTEN CONSENT ANDINFORMATION OF JLG.      |T MAY NOT BE COPIEDIS PROVIDED FOR THE LIMITED PURPOSE OF REVIEW AND EVALUATION.DRAWINGS CREATED IN Creo MCAD. UNLESS OTHERWISE SPECIFIED,ALL DIMENSIONS ARE IN MILLIMETERS.                                         NEXTASSY|FOR ANGLES BETWEEN 80-100DEGREES. ALL OTHER ANGLESPER SECTION 2.3.2.6 OFAWS D.1 OR EQUIVALENT   1001163761 Oc REF. DWG.     a oo [DRAWING NUMBER | REV.8 T 6 S th 4 3 c | =fio011637731 LDRAWING NUMBER[1001163773]AX R20 34X 1734X 2802X 44 | | 2X 1024 SEE DETAIL C 42X 425 ON 2X 4702X 575 ia \\\\ |AN \\\\ e/er4X R20(+ +) . : <____ 6ER 2x 71.24X R28 2X 557ex 4 4X 11992X 1935 |2X 2132.6F170.9 |2X 12902X 628S+3 LEAD IN = 530 AX B12.7 2X 802 2X 105- 8X REI |200+3 LEAD IN || 2X (90°) :600 578 2X 628 838 E10| 19 8X R502X RI242k=}578 102 DETAIL C 6 STK2X B42 SCALE 3:2 (0.25 STK]bee | 046 dDfog 1270 }———— 4K 306.5+0.5~~ 600 |412 8X R13.5 |20798X R432X 336 2x 15$i AA 2X 208 12X 1528.6 4X 10840.52X 1297.2 :2X 797.22X 1102X 565.8gp OO OR8X R40 2X 62 fo \\\\8X R6+| SSCALE 1:2ADDITIONAL REVISIONS ON SHEET 2DETAIL B G | SHI, D-6 |14APRI5] AHO |CHGD: DIM 2X 2081 WAS 2X 2083 155559 PZT |SH-1, D-7 CHGD DIM: G42 WAS G45E |SH-1, D-7/09JUNI4| FoQJUNT4| AHO [CHAGD DIMENS: 600 WAS 622 148665 | PZT :5 83 SH- | CHAGD DIMENS: 8X RT TO 8X R641, 2X 38 TO 2X 3840.5 |eX 376 D D-3 | 15NOVI3] AHO 4X 306.5 TO 4X 306.540.5, 4X 108 TO 148665 | PZTC-| 4X 108+0.5, 8X R6 TO 8X RELIDELETED: DIMS 2X 129.8, 6X 24.8, 6X R5.9, 6X G27,SHT | 2X 108, 2X 64.9,C cz JOFNOVI3| AHO Tannen. DiMS 4X 306.5, 8X 25, 4X 108, 8X R13.5, 8X R6 148665 | PZTSEE DETAIL B CHAGD: DIMS 2X 38, TO 2X 3841 iB ALL 280CT13]} AHO | INITIAL RELEASE | 48665 PZT :(2079) REV | ZONE BY DESCRIPTION ER NO | CHKD2X 2296 REVISIONSALL WELDING TO JLG IND UNLESS OTHERWISE|DRAWN BY: A.OSMANWELD SPECIFICATION SPECIFIED ALL1001112769 DIMENSIONING AND TOLERANCING TOLERANCES ARE DATE: 22AUGI3PER ASME Y14,5M-1994 +/-2 MM CHK‘D. BY:P. TAN TITLE: PB] ATE AUJLG GLOBAL DESIGN SOLUTION 3 , j |SOLE SOLE? 1 SOL#SL] | ALL ANGLES I) (UATE: __2eAulals FRAME TUBJLG TORQUE CHART 5000059 SPECIFIED ER, NO. 148665APPLIES TO ITEMS WITHIN O THIRD ANGLE FINISH: MATERIAL: 4150421 )'"
      ]
     },
     "execution_count": 23,
     "metadata": {},
     "output_type": "execute_result"
    }
   ],
   "source": [
    "texts[3]"
   ]
  },
  {
   "cell_type": "code",
   "execution_count": null,
   "metadata": {},
   "outputs": [],
   "source": []
  }
 ],
 "metadata": {
  "kernelspec": {
   "display_name": "Python 3",
   "language": "python",
   "name": "python3"
  },
  "language_info": {
   "codemirror_mode": {
    "name": "ipython",
    "version": 3
   },
   "file_extension": ".py",
   "mimetype": "text/x-python",
   "name": "python",
   "nbconvert_exporter": "python",
   "pygments_lexer": "ipython3",
   "version": "3.7.6"
  }
 },
 "nbformat": 4,
 "nbformat_minor": 2
}
